{
 "cells": [
  {
   "cell_type": "markdown",
   "id": "d39400e6-a588-4685-80fc-bbc6e4c9af50",
   "metadata": {},
   "source": [
    "## Utilize scikit-learn to implement linear regression"
   ]
  },
  {
   "cell_type": "markdown",
   "id": "4da2c354-a42c-4139-baf1-7b8d37d2358b",
   "metadata": {},
   "source": [
    "***Import Necessary Libraries***\n",
    "*  sklearn.preprocessing.StandardScaler will perform z-score normalization\n",
    "*  sklearn.linear_model.SGDRegressor contains implementation of gradient descent, this model performs best with normalized inputs"
   ]
  },
  {
   "cell_type": "code",
   "execution_count": 15,
   "id": "ac0fb584-d276-44a5-98b2-0eed983426f6",
   "metadata": {},
   "outputs": [],
   "source": [
    "import numpy as np\n",
    "import matplotlib.pyplot as plt\n",
    "from sklearn.linear_model import SGDRegressor\n",
    "from sklearn.preprocessing import StandardScaler"
   ]
  },
  {
   "cell_type": "markdown",
   "id": "1b8ef68d-fa50-4fab-b8c5-6bda1c27d05f",
   "metadata": {},
   "source": [
    "***Load data from text file***\n",
    "* First 4 columns are feature, 5th column is target"
   ]
  },
  {
   "cell_type": "code",
   "execution_count": 16,
   "id": "9459e873-3c5e-4b3e-81c9-eb3926f677ba",
   "metadata": {},
   "outputs": [
    {
     "name": "stdout",
     "output_type": "stream",
     "text": [
      "Shape of X_train is:  (100, 4)\n",
      "Shape of y_train is:  (100,)\n",
      "No of training examples, m =  100\n"
     ]
    }
   ],
   "source": [
    "data = np.loadtxt(\"houses.txt\", delimiter = ',')\n",
    "\n",
    "X_train = data[:, :4]\n",
    "y_train = data[:, 4]\n",
    "\n",
    "print(\"Shape of X_train is: \", X_train.shape)\n",
    "print(\"Shape of y_train is: \", y_train.shape)\n",
    "print(\"No of training examples, m = \", len(X_train))"
   ]
  },
  {
   "cell_type": "markdown",
   "id": "bbfed29c-5d32-4a22-994d-9f97f3564dbe",
   "metadata": {},
   "source": [
    "***Scale / Normalizing the training data***\n",
    "* StandardScaler().fit_transform(X_train) is used to normalize X_train data"
   ]
  },
  {
   "cell_type": "code",
   "execution_count": 17,
   "id": "4f3fc11c-2204-4443-a79b-b4b4846a3437",
   "metadata": {},
   "outputs": [
    {
     "name": "stdout",
     "output_type": "stream",
     "text": [
      "Peak to Peak range by column in Raw        X:[2.406e+03 4.000e+00 1.000e+00 9.500e+01]\n",
      "Peak to Peak range by column in Normalized X:[5.83735704 6.12923357 2.06021411 3.68430905]\n"
     ]
    }
   ],
   "source": [
    "scaler = StandardScaler()\n",
    "X_norm = scaler.fit_transform(X_train)\n",
    "\n",
    "print(f\"Peak to Peak range by column in Raw        X:{np.ptp(X_train,axis=0)}\")   \n",
    "print(f\"Peak to Peak range by column in Normalized X:{np.ptp(X_norm,axis=0)}\")"
   ]
  },
  {
   "cell_type": "markdown",
   "id": "baa08223-542b-41de-bf17-72db76b217d0",
   "metadata": {},
   "source": [
    "***Create and Fit the Regression Model***"
   ]
  },
  {
   "cell_type": "code",
   "execution_count": 18,
   "id": "87c8fa55-c66c-41e7-98cf-bb2338e8a75f",
   "metadata": {},
   "outputs": [
    {
     "name": "stdout",
     "output_type": "stream",
     "text": [
      "SGDRegressor()\n",
      "number of iterations completed: 129, number of weight updates: 12901.0\n"
     ]
    }
   ],
   "source": [
    "sgdr = SGDRegressor(max_iter=1000)\n",
    "sgdr.fit(X_norm, y_train)\n",
    "\n",
    "print(sgdr)\n",
    "print(f\"number of iterations completed: {sgdr.n_iter_}, number of weight updates: {sgdr.t_}\")"
   ]
  },
  {
   "cell_type": "markdown",
   "id": "c5467bc7-71da-41d1-b60d-6f0269fbfd85",
   "metadata": {},
   "source": [
    "***View Parameters***\n",
    "* The parameters are associated with the normalized input data"
   ]
  },
  {
   "cell_type": "code",
   "execution_count": 19,
   "id": "62d4f434-2dd7-4758-90e5-6813c277a47c",
   "metadata": {},
   "outputs": [
    {
     "name": "stdout",
     "output_type": "stream",
     "text": [
      "model parameters:                   w: [110.22503612 -21.3047505  -32.46757047 -37.82735321], b:[362.23592071]\n"
     ]
    }
   ],
   "source": [
    "b_norm = sgdr.intercept_\n",
    "w_norm = sgdr.coef_\n",
    "print(f\"model parameters:                   w: {w_norm}, b:{b_norm}\")"
   ]
  },
  {
   "cell_type": "markdown",
   "id": "b119a1a9-c014-4960-ae77-1ec6349976cb",
   "metadata": {},
   "source": [
    "***Make predictions***"
   ]
  },
  {
   "cell_type": "code",
   "execution_count": 24,
   "id": "be324d85-a874-4f7a-8078-eb643c8b7d6c",
   "metadata": {},
   "outputs": [
    {
     "name": "stdout",
     "output_type": "stream",
     "text": [
      "Prediction on training set:\n",
      "[248.70377846 295.6132571  485.67271642 389.62881957]\n",
      "Target values \n",
      "[271.5 300.  509.8 394. ]\n"
     ]
    }
   ],
   "source": [
    "# make a prediction using sgdr.predict()\n",
    "y_pred_sgd = sgdr.predict(X_norm)\n",
    "\n",
    "# first 4 training examples\n",
    "print(f\"Prediction on training set:\\n{y_pred_sgd[:4]}\" )\n",
    "print(f\"Target values \\n{y_train[:4]}\")"
   ]
  },
  {
   "cell_type": "code",
   "execution_count": null,
   "id": "a386e899-9759-4583-b20e-9694ed6c14ac",
   "metadata": {},
   "outputs": [],
   "source": []
  }
 ],
 "metadata": {
  "kernelspec": {
   "display_name": "Python 3 (ipykernel)",
   "language": "python",
   "name": "python3"
  },
  "language_info": {
   "codemirror_mode": {
    "name": "ipython",
    "version": 3
   },
   "file_extension": ".py",
   "mimetype": "text/x-python",
   "name": "python",
   "nbconvert_exporter": "python",
   "pygments_lexer": "ipython3",
   "version": "3.12.3"
  }
 },
 "nbformat": 4,
 "nbformat_minor": 5
}
